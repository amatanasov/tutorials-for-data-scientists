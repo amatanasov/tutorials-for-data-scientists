{
 "cells": [
  {
   "cell_type": "markdown",
   "metadata": {},
   "source": [
    "## Feature Discovery with Instacart Dataset\n",
    "\n",
    "**Author: João Gomes**\n",
    "\n",
    "### Scope\n",
    "The scope of this Notebook is to provide an end to end example of how to use Feature Discovery with DataRobot Python API.\n",
    "\n",
    "### Background\n",
    "\n",
    "Feature Discovery is used to automatically aggregate data of different granularities while generating hundreds of features. This can significantly reduce the time investment needed from data scientists and data engineers alike to bring data together and start modeling. To learn more about feature discovery, check our community article [here](https://community.datarobot.com/t5/resources/feature-discovery-with-datarobot/ta-p/4972).\n",
    "\n",
    "The dataset we will be using is a sampled version of the well known instacart dataset. More information on it can be found [here](https://tech.instacart.com/3-million-instacart-orders-open-sourced-d40d29ead6f2).\n",
    "\n",
    "\n",
    "### Requirements\n",
    "\n",
    "- Python version 3.7.3\n",
    "- DataRobot API version > 2.21.0\n",
    "\n",
    "Full documentation of the Python package can be found here: https://datarobot-public-api-client.readthedocs-hosted.com"
   ]
  },
  {
   "cell_type": "markdown",
   "metadata": {},
   "source": [
    "#### Import Libraries\n",
    "To start with, lets import the libraries that will be used in this tutorial"
   ]
  },
  {
   "cell_type": "code",
   "execution_count": 1,
   "metadata": {},
   "outputs": [],
   "source": [
    "import datarobot as dr\n",
    "import time"
   ]
  },
  {
   "cell_type": "markdown",
   "metadata": {},
   "source": [
    "#### Connect to DataRobot\n",
    "\n",
    "Connect to DataRobot using your api token and your endpoint. Change input below accordingly."
   ]
  },
  {
   "cell_type": "code",
   "execution_count": 3,
   "metadata": {},
   "outputs": [
    {
     "data": {
      "text/plain": [
       "<datarobot.rest.RESTClientObject at 0x7ffc655ddc18>"
      ]
     },
     "execution_count": 3,
     "metadata": {},
     "output_type": "execute_result"
    }
   ],
   "source": [
    "dr.Client(token ='YOUR_TOKEN' ,\n",
    "          endpoint ='YOUR_ENDPOINT')"
   ]
  },
  {
   "cell_type": "code",
   "execution_count": 3,
   "metadata": {},
   "outputs": [],
   "source": [
    "primary_dataset = dr.Dataset.create_from_file('data/train500.csv')\n",
    "project = dr.Project.create_from_dataset(primary_dataset.id, project_name='Instacart FD API')"
   ]
  },
  {
   "cell_type": "markdown",
   "metadata": {},
   "source": [
    "#### Create Secondary Datasets"
   ]
  },
  {
   "cell_type": "code",
   "execution_count": 4,
   "metadata": {},
   "outputs": [],
   "source": [
    "orders_dataset = dr.Dataset.create_from_file(file_path='data/orders.csv')\n",
    "order_products = dr.Dataset.create_from_file(file_path='data/order_products.csv')"
   ]
  },
  {
   "cell_type": "markdown",
   "metadata": {},
   "source": [
    "#### Define definitions and relationships\n",
    "Change below based on your problem."
   ]
  },
  {
   "cell_type": "code",
   "execution_count": 5,
   "metadata": {},
   "outputs": [],
   "source": [
    "dataset_definitions = [\n",
    "    {\n",
    "        'identifier': 'orders',\n",
    "        'catalogVersionId': orders_dataset.version_id,\n",
    "        'catalogId': orders_dataset.id,\n",
    "        'primaryTemporalKey': 'order_time',\n",
    "        'snapshotPolicy': 'latest',\n",
    "    },\n",
    "    {\n",
    "        'identifier': 'order_products',\n",
    "        'catalogId': order_products.id,\n",
    "        'catalogVersionId': order_products.version_id,\n",
    "        'snapshotPolicy': 'latest',\n",
    "    },\n",
    "]\n",
    "\n",
    "relationships = [\n",
    "    {\n",
    "        'dataset2Identifier': 'orders',\n",
    "        'dataset1Keys': ['user_id'],\n",
    "        'dataset2Keys': ['user_id'],\n",
    "        'featureDerivationWindowStart': -30,\n",
    "        'featureDerivationWindowEnd': 0,\n",
    "        'featureDerivationWindowTimeUnit': 'DAY',\n",
    "        'predictionPointRounding': 1,\n",
    "        'predictionPointRoundingTimeUnit': 'DAY',\n",
    "    },\n",
    "    {\n",
    "        'dataset1Identifier': 'orders',\n",
    "        'dataset2Identifier': 'order_products',\n",
    "        'dataset1Keys': ['order_id'],\n",
    "        'dataset2Keys': ['order_id'],\n",
    "    },\n",
    "]\n",
    "\n",
    "# Create the relationships configuration to define connection between the datasets\n",
    "relationship_config = dr.RelationshipsConfiguration.create(dataset_definitions=dataset_definitions, relationships=relationships)"
   ]
  },
  {
   "cell_type": "markdown",
   "metadata": {},
   "source": [
    "#### Prepare Datetime partitioning"
   ]
  },
  {
   "cell_type": "code",
   "execution_count": 2,
   "metadata": {},
   "outputs": [],
   "source": [
    "partitioning_spec = dr.DatetimePartitioningSpecification('time')"
   ]
  },
  {
   "cell_type": "markdown",
   "metadata": {},
   "source": [
    "#### Start Project"
   ]
  },
  {
   "cell_type": "code",
   "execution_count": null,
   "metadata": {},
   "outputs": [],
   "source": [
    "project.set_target(target='will_buy_bananas', relationships_configuration_id=relationship_config.id, partitioning_method=partitioning_spec)\n",
    "project.wait_for_autopilot()"
   ]
  },
  {
   "cell_type": "markdown",
   "metadata": {},
   "source": [
    "#### Get predictions from test set"
   ]
  },
  {
   "cell_type": "code",
   "execution_count": 7,
   "metadata": {},
   "outputs": [],
   "source": [
    "# prepare to get predictions for test set\n",
    "dataset = project.upload_dataset(path +\"test.csv\")\n",
    "\n",
    "model = dr.ModelRecommendation.get(\n",
    "    project.id,\n",
    "    dr.enums.RECOMMENDED_MODEL_TYPE.RECOMMENDED_FOR_DEPLOYMENT\n",
    ").get_model()\n",
    "\n",
    "pred_job = model.request_predictions(dataset.id)\n",
    "preds = pred_job.get_result_when_complete()"
   ]
  },
  {
   "cell_type": "code",
   "execution_count": 8,
   "metadata": {},
   "outputs": [
    {
     "data": {
      "text/html": [
       "<div>\n",
       "<style scoped>\n",
       "    .dataframe tbody tr th:only-of-type {\n",
       "        vertical-align: middle;\n",
       "    }\n",
       "\n",
       "    .dataframe tbody tr th {\n",
       "        vertical-align: top;\n",
       "    }\n",
       "\n",
       "    .dataframe thead th {\n",
       "        text-align: right;\n",
       "    }\n",
       "</style>\n",
       "<table border=\"1\" class=\"dataframe\">\n",
       "  <thead>\n",
       "    <tr style=\"text-align: right;\">\n",
       "      <th></th>\n",
       "      <th>prediction_threshold</th>\n",
       "      <th>prediction</th>\n",
       "      <th>row_id</th>\n",
       "      <th>positive_probability</th>\n",
       "      <th>class_0.0</th>\n",
       "      <th>class_1.0</th>\n",
       "    </tr>\n",
       "  </thead>\n",
       "  <tbody>\n",
       "    <tr>\n",
       "      <th>0</th>\n",
       "      <td>0.5</td>\n",
       "      <td>1.0</td>\n",
       "      <td>0</td>\n",
       "      <td>0.899787</td>\n",
       "      <td>0.100213</td>\n",
       "      <td>0.899787</td>\n",
       "    </tr>\n",
       "    <tr>\n",
       "      <th>1</th>\n",
       "      <td>0.5</td>\n",
       "      <td>1.0</td>\n",
       "      <td>1</td>\n",
       "      <td>0.969370</td>\n",
       "      <td>0.030630</td>\n",
       "      <td>0.969370</td>\n",
       "    </tr>\n",
       "    <tr>\n",
       "      <th>2</th>\n",
       "      <td>0.5</td>\n",
       "      <td>0.0</td>\n",
       "      <td>2</td>\n",
       "      <td>0.385222</td>\n",
       "      <td>0.614778</td>\n",
       "      <td>0.385222</td>\n",
       "    </tr>\n",
       "    <tr>\n",
       "      <th>3</th>\n",
       "      <td>0.5</td>\n",
       "      <td>0.0</td>\n",
       "      <td>3</td>\n",
       "      <td>0.151270</td>\n",
       "      <td>0.848730</td>\n",
       "      <td>0.151270</td>\n",
       "    </tr>\n",
       "    <tr>\n",
       "      <th>4</th>\n",
       "      <td>0.5</td>\n",
       "      <td>1.0</td>\n",
       "      <td>4</td>\n",
       "      <td>0.870262</td>\n",
       "      <td>0.129738</td>\n",
       "      <td>0.870262</td>\n",
       "    </tr>\n",
       "  </tbody>\n",
       "</table>\n",
       "</div>"
      ],
      "text/plain": [
       "   prediction_threshold  prediction  row_id  positive_probability  class_0.0  \\\n",
       "0                   0.5         1.0       0              0.899787   0.100213   \n",
       "1                   0.5         1.0       1              0.969370   0.030630   \n",
       "2                   0.5         0.0       2              0.385222   0.614778   \n",
       "3                   0.5         0.0       3              0.151270   0.848730   \n",
       "4                   0.5         1.0       4              0.870262   0.129738   \n",
       "\n",
       "   class_1.0  \n",
       "0   0.899787  \n",
       "1   0.969370  \n",
       "2   0.385222  \n",
       "3   0.151270  \n",
       "4   0.870262  "
      ]
     },
     "execution_count": 8,
     "metadata": {},
     "output_type": "execute_result"
    }
   ],
   "source": [
    "preds.head()"
   ]
  },
  {
   "cell_type": "code",
   "execution_count": null,
   "metadata": {},
   "outputs": [],
   "source": []
  }
 ],
 "metadata": {
  "kernelspec": {
   "display_name": "Python 3",
   "language": "python",
   "name": "python3"
  },
  "language_info": {
   "codemirror_mode": {
    "name": "ipython",
    "version": 3
   },
   "file_extension": ".py",
   "mimetype": "text/x-python",
   "name": "python",
   "nbconvert_exporter": "python",
   "pygments_lexer": "ipython3",
   "version": "3.7.3"
  }
 },
 "nbformat": 4,
 "nbformat_minor": 4
}
